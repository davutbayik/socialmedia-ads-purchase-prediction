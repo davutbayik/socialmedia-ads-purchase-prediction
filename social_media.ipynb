{
 "cells": [
  {
   "cell_type": "code",
   "execution_count": 1,
   "id": "2fb92013",
   "metadata": {},
   "outputs": [],
   "source": [
    "import pandas as pd\n",
    "import numpy as np\n",
    "import os\n",
    "import matplotlib\n",
    "import seaborn as sns\n",
    "from scipy.stats import uniform, randint\n",
    "from sklearn.model_selection import train_test_split, RandomizedSearchCV, StratifiedKFold\n",
    "from sklearn.pipeline import Pipeline\n",
    "from sklearn.compose import ColumnTransformer\n",
    "from sklearn.metrics import accuracy_score, log_loss\n",
    "from sklearn.tree import DecisionTreeClassifier\n",
    "from sklearn.preprocessing import PowerTransformer, OneHotEncoder\n",
    "from xgboost import XGBClassifier\n",
    "import pickle\n",
    "\n",
    "import warnings\n",
    "warnings.filterwarnings(\"ignore\")"
   ]
  },
  {
   "cell_type": "markdown",
   "id": "8b02ceff",
   "metadata": {},
   "source": [
    "##### Data Source --> https://www.kaggle.com/datasets/rakeshrau/social-network-ads"
   ]
  },
  {
   "cell_type": "code",
   "execution_count": 2,
   "id": "45e51627",
   "metadata": {},
   "outputs": [
    {
     "data": {
      "text/html": [
       "<div>\n",
       "<style scoped>\n",
       "    .dataframe tbody tr th:only-of-type {\n",
       "        vertical-align: middle;\n",
       "    }\n",
       "\n",
       "    .dataframe tbody tr th {\n",
       "        vertical-align: top;\n",
       "    }\n",
       "\n",
       "    .dataframe thead th {\n",
       "        text-align: right;\n",
       "    }\n",
       "</style>\n",
       "<table border=\"1\" class=\"dataframe\">\n",
       "  <thead>\n",
       "    <tr style=\"text-align: right;\">\n",
       "      <th></th>\n",
       "      <th>User ID</th>\n",
       "      <th>Gender</th>\n",
       "      <th>Age</th>\n",
       "      <th>EstimatedSalary</th>\n",
       "      <th>Purchased</th>\n",
       "    </tr>\n",
       "  </thead>\n",
       "  <tbody>\n",
       "    <tr>\n",
       "      <th>0</th>\n",
       "      <td>15624510</td>\n",
       "      <td>Male</td>\n",
       "      <td>19</td>\n",
       "      <td>19000</td>\n",
       "      <td>0</td>\n",
       "    </tr>\n",
       "    <tr>\n",
       "      <th>1</th>\n",
       "      <td>15810944</td>\n",
       "      <td>Male</td>\n",
       "      <td>35</td>\n",
       "      <td>20000</td>\n",
       "      <td>0</td>\n",
       "    </tr>\n",
       "    <tr>\n",
       "      <th>2</th>\n",
       "      <td>15668575</td>\n",
       "      <td>Female</td>\n",
       "      <td>26</td>\n",
       "      <td>43000</td>\n",
       "      <td>0</td>\n",
       "    </tr>\n",
       "    <tr>\n",
       "      <th>3</th>\n",
       "      <td>15603246</td>\n",
       "      <td>Female</td>\n",
       "      <td>27</td>\n",
       "      <td>57000</td>\n",
       "      <td>0</td>\n",
       "    </tr>\n",
       "    <tr>\n",
       "      <th>4</th>\n",
       "      <td>15804002</td>\n",
       "      <td>Male</td>\n",
       "      <td>19</td>\n",
       "      <td>76000</td>\n",
       "      <td>0</td>\n",
       "    </tr>\n",
       "  </tbody>\n",
       "</table>\n",
       "</div>"
      ],
      "text/plain": [
       "    User ID  Gender  Age  EstimatedSalary  Purchased\n",
       "0  15624510    Male   19            19000          0\n",
       "1  15810944    Male   35            20000          0\n",
       "2  15668575  Female   26            43000          0\n",
       "3  15603246  Female   27            57000          0\n",
       "4  15804002    Male   19            76000          0"
      ]
     },
     "execution_count": 2,
     "metadata": {},
     "output_type": "execute_result"
    }
   ],
   "source": [
    "df = pd.read_csv(\"data/Social_Network_Ads.csv\")\n",
    "df.head()"
   ]
  },
  {
   "cell_type": "code",
   "execution_count": 3,
   "id": "ff8c3173",
   "metadata": {},
   "outputs": [
    {
     "name": "stdout",
     "output_type": "stream",
     "text": [
      "<class 'pandas.core.frame.DataFrame'>\n",
      "RangeIndex: 400 entries, 0 to 399\n",
      "Data columns (total 5 columns):\n",
      " #   Column           Non-Null Count  Dtype \n",
      "---  ------           --------------  ----- \n",
      " 0   User ID          400 non-null    int64 \n",
      " 1   Gender           400 non-null    object\n",
      " 2   Age              400 non-null    int64 \n",
      " 3   EstimatedSalary  400 non-null    int64 \n",
      " 4   Purchased        400 non-null    int64 \n",
      "dtypes: int64(4), object(1)\n",
      "memory usage: 15.8+ KB\n"
     ]
    }
   ],
   "source": [
    "df.info()"
   ]
  },
  {
   "cell_type": "code",
   "execution_count": 4,
   "id": "414e7006",
   "metadata": {},
   "outputs": [
    {
     "data": {
      "text/html": [
       "<div>\n",
       "<style scoped>\n",
       "    .dataframe tbody tr th:only-of-type {\n",
       "        vertical-align: middle;\n",
       "    }\n",
       "\n",
       "    .dataframe tbody tr th {\n",
       "        vertical-align: top;\n",
       "    }\n",
       "\n",
       "    .dataframe thead th {\n",
       "        text-align: right;\n",
       "    }\n",
       "</style>\n",
       "<table border=\"1\" class=\"dataframe\">\n",
       "  <thead>\n",
       "    <tr style=\"text-align: right;\">\n",
       "      <th></th>\n",
       "      <th>User ID</th>\n",
       "      <th>Age</th>\n",
       "      <th>EstimatedSalary</th>\n",
       "      <th>Purchased</th>\n",
       "    </tr>\n",
       "  </thead>\n",
       "  <tbody>\n",
       "    <tr>\n",
       "      <th>count</th>\n",
       "      <td>4.000000e+02</td>\n",
       "      <td>400.000000</td>\n",
       "      <td>400.000000</td>\n",
       "      <td>400.000000</td>\n",
       "    </tr>\n",
       "    <tr>\n",
       "      <th>mean</th>\n",
       "      <td>1.569154e+07</td>\n",
       "      <td>37.655000</td>\n",
       "      <td>69742.500000</td>\n",
       "      <td>0.357500</td>\n",
       "    </tr>\n",
       "    <tr>\n",
       "      <th>std</th>\n",
       "      <td>7.165832e+04</td>\n",
       "      <td>10.482877</td>\n",
       "      <td>34096.960282</td>\n",
       "      <td>0.479864</td>\n",
       "    </tr>\n",
       "    <tr>\n",
       "      <th>min</th>\n",
       "      <td>1.556669e+07</td>\n",
       "      <td>18.000000</td>\n",
       "      <td>15000.000000</td>\n",
       "      <td>0.000000</td>\n",
       "    </tr>\n",
       "    <tr>\n",
       "      <th>25%</th>\n",
       "      <td>1.562676e+07</td>\n",
       "      <td>29.750000</td>\n",
       "      <td>43000.000000</td>\n",
       "      <td>0.000000</td>\n",
       "    </tr>\n",
       "    <tr>\n",
       "      <th>50%</th>\n",
       "      <td>1.569434e+07</td>\n",
       "      <td>37.000000</td>\n",
       "      <td>70000.000000</td>\n",
       "      <td>0.000000</td>\n",
       "    </tr>\n",
       "    <tr>\n",
       "      <th>75%</th>\n",
       "      <td>1.575036e+07</td>\n",
       "      <td>46.000000</td>\n",
       "      <td>88000.000000</td>\n",
       "      <td>1.000000</td>\n",
       "    </tr>\n",
       "    <tr>\n",
       "      <th>max</th>\n",
       "      <td>1.581524e+07</td>\n",
       "      <td>60.000000</td>\n",
       "      <td>150000.000000</td>\n",
       "      <td>1.000000</td>\n",
       "    </tr>\n",
       "  </tbody>\n",
       "</table>\n",
       "</div>"
      ],
      "text/plain": [
       "            User ID         Age  EstimatedSalary   Purchased\n",
       "count  4.000000e+02  400.000000       400.000000  400.000000\n",
       "mean   1.569154e+07   37.655000     69742.500000    0.357500\n",
       "std    7.165832e+04   10.482877     34096.960282    0.479864\n",
       "min    1.556669e+07   18.000000     15000.000000    0.000000\n",
       "25%    1.562676e+07   29.750000     43000.000000    0.000000\n",
       "50%    1.569434e+07   37.000000     70000.000000    0.000000\n",
       "75%    1.575036e+07   46.000000     88000.000000    1.000000\n",
       "max    1.581524e+07   60.000000    150000.000000    1.000000"
      ]
     },
     "execution_count": 4,
     "metadata": {},
     "output_type": "execute_result"
    }
   ],
   "source": [
    "df.describe()"
   ]
  },
  {
   "cell_type": "code",
   "execution_count": 5,
   "id": "5f5343f5",
   "metadata": {},
   "outputs": [
    {
     "data": {
      "image/png": "[encoded data removed]",
      "text/plain": [
       "<Figure size 640x480 with 1 Axes>"
      ]
     },
     "metadata": {},
     "output_type": "display_data"
    }
   ],
   "source": [
    "fig = sns.countplot(data=df, x=\"Purchased\")"
   ]
  },
  {
   "cell_type": "code",
   "execution_count": 6,
   "id": "b9b1f9d2",
   "metadata": {},
   "outputs": [
    {
     "data": {
      "image/png": "[encoded data removed]",
      "text/plain": [
       "<Figure size 640x480 with 1 Axes>"
      ]
     },
     "metadata": {},
     "output_type": "display_data"
    }
   ],
   "source": [
    "fig = sns.countplot(data=df, x=\"Gender\")"
   ]
  },
  {
   "cell_type": "code",
   "execution_count": 7,
   "id": "83af828a",
   "metadata": {},
   "outputs": [
    {
     "data": {
      "image/png": "[encoded data removed]",
      "text/plain": [
       "<Figure size 640x480 with 2 Axes>"
      ]
     },
     "metadata": {},
     "output_type": "display_data"
    }
   ],
   "source": [
    "fig = df[[\"Age\", \"EstimatedSalary\"]].hist()"
   ]
  },
  {
   "cell_type": "code",
   "execution_count": 8,
   "id": "d5ff4ca8",
   "metadata": {},
   "outputs": [
    {
     "data": {
      "image/png": "[encoded data removed]",
      "text/plain": [
       "<Figure size 640x480 with 2 Axes>"
      ]
     },
     "metadata": {},
     "output_type": "display_data"
    }
   ],
   "source": [
    "# Visually inspect the PowerTransformer effect on the numerical inputs\n",
    "df_ = df.copy(deep=True)\n",
    "\n",
    "# We can use box-cox transformation for the normalization since both Age and EstimatedSalary features have strcitly positive values\n",
    "scaler = PowerTransformer(method=\"box-cox\")\n",
    "\n",
    "df_[\"Age\"] = scaler.fit_transform(df_[\"Age\"].values.reshape(-1,1))\n",
    "df_[\"EstimatedSalary\"] = scaler.fit_transform(df_[\"EstimatedSalary\"].values.reshape(-1,1))\n",
    "\n",
    "fig = df_[[\"Age\", \"EstimatedSalary\"]].hist()"
   ]
  },
  {
   "cell_type": "code",
   "execution_count": 9,
   "id": "7e51ab59",
   "metadata": {},
   "outputs": [],
   "source": [
    "numeric_features = ['Age', 'EstimatedSalary']\n",
    "categorical_features = ['Gender']\n",
    "\n",
    "X = df.drop(columns=[\"User ID\", \"Purchased\"])\n",
    "y = df[\"Purchased\"]\n",
    "\n",
    "X_train_, X_test, y_train_, y_test = train_test_split(X, y, test_size=0.33, random_state=42)\n",
    "\n",
    "# Split train dataset to train and validation for fine-tuning the classifier\n",
    "X_train, X_val, y_train, y_val = train_test_split(X_train_, y_train_, test_size=0.33, random_state=42)"
   ]
  },
  {
   "cell_type": "code",
   "execution_count": 10,
   "id": "30457764",
   "metadata": {},
   "outputs": [],
   "source": [
    "# Preprocess training dataset\n",
    "preprocessor = ColumnTransformer(\n",
    "    transformers=[\n",
    "        ('num', PowerTransformer(method=\"box-cox\"), numeric_features),\n",
    "        ('cat',  OneHotEncoder(handle_unknown='ignore'), categorical_features)\n",
    "    ]\n",
    ")"
   ]
  },
  {
   "cell_type": "code",
   "execution_count": 11,
   "id": "6686a6ac",
   "metadata": {},
   "outputs": [
    {
     "name": "stdout",
     "output_type": "stream",
     "text": [
      "Accuracy Score --> 0.86\n",
      "Log Loss --> 4.92\n"
     ]
    }
   ],
   "source": [
    "# Full pipeline with a baseline classifier\n",
    "baseline_pipeline = Pipeline(steps=[\n",
    "    ('preprocessor', preprocessor),\n",
    "    ('classifier', DecisionTreeClassifier(random_state=42))\n",
    "])\n",
    "\n",
    "baseline_pipeline.fit(X_train_, y_train_)\n",
    "\n",
    "y_pred = baseline_pipeline.predict(X_test)\n",
    "print(\"Accuracy Score -->\", round(accuracy_score(y_test, y_pred),2))\n",
    "\n",
    "y_pred_proba = baseline_pipeline.predict_proba(X_test)\n",
    "print(\"Log Loss -->\", round(log_loss(y_test, y_pred_proba),2))"
   ]
  },
  {
   "cell_type": "markdown",
   "id": "af8e96be",
   "metadata": {},
   "source": [
    "### Hyperparameter Tuning For XGBoost Classifier"
   ]
  },
  {
   "cell_type": "code",
   "execution_count": 12,
   "id": "4dd2de3d",
   "metadata": {},
   "outputs": [
    {
     "name": "stdout",
     "output_type": "stream",
     "text": [
      "Fitting 5 folds for each of 1000 candidates, totalling 5000 fits\n",
      "Best Params: {'classifier__subsample': 1.0, 'classifier__reg_lambda': 1, 'classifier__reg_alpha': 0, 'classifier__n_estimators': 100, 'classifier__max_depth': 3, 'classifier__learning_rate': 0.1, 'classifier__gamma': 1, 'classifier__colsample_bytree': 1.0}\n",
      "Best CV Log Loss: 0.2871\n",
      "Accuracy Score --> 0.95\n",
      "Log Loss --> 0.2\n"
     ]
    }
   ],
   "source": [
    "# Use XGBoost's native wrapper\n",
    "xgb_model = XGBClassifier(\n",
    "    objective='binary:logistic',\n",
    "    eval_metric='logloss',\n",
    "    random_state=42\n",
    ")\n",
    "\n",
    "# Full pipeline\n",
    "xgb_pipeline = Pipeline(steps=[\n",
    "    ('preprocessor', preprocessor),\n",
    "    ('classifier', xgb_model)\n",
    "])\n",
    "\n",
    "# Define hyperparameter search space\n",
    "param_grid = {\n",
    "    'classifier__n_estimators': [100, 200],              # # of boosting rounds\n",
    "    'classifier__max_depth': [3, 5, 7],                  # max depth of trees\n",
    "    'classifier__learning_rate': [0.01, 0.05, 0.1],      # shrinkage\n",
    "    'classifier__subsample': [0.7, 0.9, 1.0],            # % of training data per boosting round\n",
    "    'classifier__colsample_bytree': [0.7, 0.9, 1.0],     # % of features per tree\n",
    "    'classifier__gamma': [0, 1, 5],                      # min loss reduction (regularization)\n",
    "    'classifier__reg_alpha': [0, 0.1, 1],                # L1 regularization\n",
    "    'classifier__reg_lambda': [1, 5, 10]                 # L2 regularization\n",
    "}\n",
    "\n",
    "cv = StratifiedKFold(n_splits=5, shuffle=True, random_state=42)\n",
    "\n",
    "# GridSearch with neg_log_loss\n",
    "randomized_grid_search = RandomizedSearchCV(\n",
    "    estimator=xgb_pipeline,\n",
    "    param_distributions=param_grid,\n",
    "    scoring='neg_log_loss',\n",
    "    n_iter=1000,\n",
    "    cv=cv,\n",
    "    verbose=1,\n",
    "    #n_jobs=-1\n",
    ")\n",
    "\n",
    "# Fit the search grid\n",
    "randomized_grid_search.fit(X_train_, y_train_)\n",
    "\n",
    "# Results\n",
    "print(\"Best Params:\", randomized_grid_search.best_params_)\n",
    "print(f\"Best CV Log Loss: {-randomized_grid_search.best_score_:.4f}\")\n",
    "\n",
    "# Test set performance\n",
    "y_pred = randomized_grid_search.predict(X_test)\n",
    "print(\"Accuracy Score -->\", round(accuracy_score(y_test, y_pred),2))\n",
    "\n",
    "y_pred_proba = randomized_grid_search.predict_proba(X_test)\n",
    "print(\"Log Loss -->\", round(log_loss(y_test, y_pred_proba),2))"
   ]
  },
  {
   "cell_type": "code",
   "execution_count": 15,
   "id": "717755b4",
   "metadata": {},
   "outputs": [
    {
     "name": "stdout",
     "output_type": "stream",
     "text": [
      "Accuracy Score --> 0.95\n",
      "Log Loss --> 0.2\n"
     ]
    }
   ],
   "source": [
    "# Use the wrapped model with early stopping\n",
    "xgb_model = XGBClassifier(\n",
    "    subsample=1.0,\n",
    "    colsample_bytree=1.0,\n",
    "    reg_alpha=0,\n",
    "    reg_lambda=1,\n",
    "    learning_rate=0.1,\n",
    "    gamma=1,\n",
    "    n_estimators=100,\n",
    "    max_depth=3,\n",
    "    objective='binary:logistic',\n",
    "    eval_metric='logloss',\n",
    "    random_state=42\n",
    ")\n",
    "\n",
    "# Rest of your pipeline and grid search stays the same\n",
    "\n",
    "# Full pipeline\n",
    "xgb_pipeline = Pipeline(steps=[\n",
    "    ('preprocessor', preprocessor),\n",
    "    ('classifier', xgb_model)\n",
    "])\n",
    "\n",
    "xgb_pipeline.fit(X_train_, y_train_)\n",
    "\n",
    "y_pred = xgb_pipeline.predict(X_test)\n",
    "print(\"Accuracy Score -->\", round(accuracy_score(y_test, y_pred),2))\n",
    "\n",
    "y_pred_proba = xgb_pipeline.predict_proba(X_test)\n",
    "print(\"Log Loss -->\", round(log_loss(y_test, y_pred_proba),2))"
   ]
  },
  {
   "cell_type": "code",
   "execution_count": 16,
   "id": "85f8493c",
   "metadata": {},
   "outputs": [],
   "source": [
    "# Save the predicted model to use later\n",
    "\n",
    "if not os.path.exists(\"./model\"):\n",
    "    os.mkdir(\"./model\")\n",
    "\n",
    "with open(\"model/xgb_model.pkl\", \"wb\") as f:\n",
    "    pickle.dump(xgb_pipeline, f)\n",
    "f.close()"
   ]
  }
 ],
 "metadata": {
  "kernelspec": {
   "display_name": ".venv",
   "language": "python",
   "name": "python3"
  },
  "language_info": {
   "codemirror_mode": {
    "name": "ipython",
    "version": 3
   },
   "file_extension": ".py",
   "mimetype": "text/x-python",
   "name": "python",
   "nbconvert_exporter": "python",
   "pygments_lexer": "ipython3",
   "version": "3.12.1"
  }
 },
 "nbformat": 4,
 "nbformat_minor": 5
}
